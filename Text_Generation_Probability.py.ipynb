{
 "cells": [
  {
   "cell_type": "code",
   "execution_count": 1,
   "metadata": {},
   "outputs": [],
   "source": [
    "import numpy as np\n",
    "import nltk\n",
    "import os"
   ]
  },
  {
   "cell_type": "code",
   "execution_count": 2,
   "metadata": {},
   "outputs": [
    {
     "name": "stderr",
     "output_type": "stream",
     "text": [
      "[nltk_data] Downloading package genesis to\n",
      "[nltk_data]     C:\\Users\\ADMIN\\AppData\\Roaming\\nltk_data...\n",
      "[nltk_data]   Package genesis is already up-to-date!\n"
     ]
    },
    {
     "data": {
      "text/plain": [
       "True"
      ]
     },
     "execution_count": 2,
     "metadata": {},
     "output_type": "execute_result"
    }
   ],
   "source": [
    "nltk.download('genesis')"
   ]
  },
  {
   "cell_type": "markdown",
   "metadata": {},
   "source": [
    "## Creating a Transition Table"
   ]
  },
  {
   "cell_type": "code",
   "execution_count": 3,
   "metadata": {},
   "outputs": [],
   "source": [
    "def generateTable(data,k=4):\n",
    "    T={}\n",
    "    for i in range(len(data)-k):\n",
    "        x=data[i:i+k]\n",
    "        y=data[i+k]\n",
    "        \n",
    "        if T.get(x) is None:\n",
    "            T[x]={}\n",
    "            T[x][y]=1\n",
    "        else:\n",
    "            if T[x].get(y) is None:\n",
    "                T[x][y]=1\n",
    "            else:\n",
    "                T[x][y]+=1\n",
    "    return T"
   ]
  },
  {
   "cell_type": "code",
   "execution_count": 4,
   "metadata": {},
   "outputs": [],
   "source": [
    "T=generateTable(\"hello hello helli\")"
   ]
  },
  {
   "cell_type": "code",
   "execution_count": 5,
   "metadata": {},
   "outputs": [
    {
     "name": "stdout",
     "output_type": "stream",
     "text": [
      "{'hell': {'o': 2, 'i': 1}, 'ello': {' ': 2}, 'llo ': {'h': 2}, 'lo h': {'e': 2}, 'o he': {'l': 2}, ' hel': {'l': 2}}\n"
     ]
    }
   ],
   "source": [
    "print(T)"
   ]
  },
  {
   "cell_type": "code",
   "execution_count": 6,
   "metadata": {},
   "outputs": [],
   "source": [
    "def convertFrequencyIntoProb(Transition_Table):\n",
    "    for kx in Transition_Table.keys():\n",
    "        s=float(sum(Transition_Table[kx].values()))\n",
    "        for i in Transition_Table[kx].keys():\n",
    "            Transition_Table[kx][i]=Transition_Table[kx][i]/s\n",
    "    return Transition_Table"
   ]
  },
  {
   "cell_type": "code",
   "execution_count": 7,
   "metadata": {},
   "outputs": [],
   "source": [
    "T=convertFrequencyIntoProb(T)"
   ]
  },
  {
   "cell_type": "code",
   "execution_count": 8,
   "metadata": {},
   "outputs": [
    {
     "name": "stdout",
     "output_type": "stream",
     "text": [
      "{'hell': {'o': 0.6666666666666666, 'i': 0.3333333333333333}, 'ello': {' ': 1.0}, 'llo ': {'h': 1.0}, 'lo h': {'e': 1.0}, 'o he': {'l': 1.0}, ' hel': {'l': 1.0}}\n"
     ]
    }
   ],
   "source": [
    "print(T)"
   ]
  },
  {
   "cell_type": "markdown",
   "metadata": {},
   "source": [
    "### Sampling"
   ]
  },
  {
   "cell_type": "code",
   "execution_count": 9,
   "metadata": {},
   "outputs": [
    {
     "name": "stdout",
     "output_type": "stream",
     "text": [
      "apple\n",
      "banana\n",
      "apple\n",
      "banana\n",
      "apple\n",
      "apple\n",
      "apple\n",
      "apple\n",
      "mango\n"
     ]
    }
   ],
   "source": [
    "## example of sampling\n",
    "fruits=[\"apple\",\"mango\",\"banana\"]\n",
    "#for i in range(9):\n",
    "   # print(np.random.choice(fruits))\n",
    "\n",
    "## sampling is done according to probability of each item if not given it gives equal probability to each item.\n",
    "\n",
    "probs=[0.7,0.2,0.1]\n",
    "for i in range(9):\n",
    "    print(np.random.choice(fruits,p=probs))"
   ]
  },
  {
   "cell_type": "markdown",
   "metadata": {},
   "source": [
    "## Generating Text For Model"
   ]
  },
  {
   "cell_type": "code",
   "execution_count": 10,
   "metadata": {},
   "outputs": [],
   "source": [
    "from bs4 import BeautifulSoup"
   ]
  },
  {
   "cell_type": "code",
   "execution_count": null,
   "metadata": {},
   "outputs": [],
   "source": []
  },
  {
   "cell_type": "code",
   "execution_count": 11,
   "metadata": {},
   "outputs": [],
   "source": [
    "with open(\"Apna Time Aayega.txt\") as f:\n",
    "    bs=BeautifulSoup(f.read(),'html.parser')\n",
    "    data=bs.get_text()"
   ]
  },
  {
   "cell_type": "code",
   "execution_count": 12,
   "metadata": {},
   "outputs": [
    {
     "data": {
      "text/plain": [
       "'Apna Time Aayega\\nUth ja apni raakh se\\nTu udd ja ab talaash mein\\nParwaaz dekh parwane ki\\nAasman bhi sar uthayega\\nAayega apna time aayega\\nMere jaisa shaana lala\\nTujhe na mil payega\\n \\nYeh shabdon ka jwala\\nMeri bediyan pighlayega\\nJitna toone boya hai tu\\nUtna hi to khaayega\\nAisa mera khwaab hai\\nJo darr ko bhi satayega\\nZinda mera khwaab\\nAb kaise tu dafnayega\\n \\nAb hausle se jeene de\\nAb khauf nahi hai seene mein\\nHar raaste ko cheerenge\\nHum kaamyabi chheenenge\\nSab kuchh mila paseene se\\nMatlab bana ab jeene mein\\n \\nKyon\\nKyon ki apna time aayega\\n \\nTu nanga hi to aaya hai\\nKya ghanta lekar jaayega\\nApna time aayega\\nApna time aayega\\nApna time aayega x (2)\\n \\nTu nanga hi to aaya hai\\nKya ghanta lekar..\\n \\nKissi ka hath nahi tha sar par\\nYahaan par aaya khud ki mehnat se main\\nJitni taakat kismat mein nahi\\nUtni rehmat mein hai\\nPhir bhi ladka sehmat nahin hai\\nKyon ki hairat nahi hai\\nZaroorat yahaan marzi ki\\nAur jurrat ki hai\\n \\nTaakat ki hai, aafat ki\\nHimaakat ki, ibaadat ki\\nAdalat yeh hai chahat ki\\nMohobbat ki, amaanat ki\\nJeetne ki ab aadat ki hai\\nShohrat ki ab laalach nai hai\\nTere bhai jaisa koyi hardâ€™ch nai hai\\n \\nIss harkat ne hi barkat di hai\\nKyon?\\n \\nTu nanga hi to aaya hai\\nKya ghanta lekar jaayega\\nApna time aayega\\nApna time aayega\\nApna time aayega\\n \\nTu nanga hi to aaya hai\\nKya ghanta lekar jaayega\\nKya tu ghanta lekar jaayega\\nApna time aayega\\nApna time aayega'"
      ]
     },
     "execution_count": 12,
     "metadata": {},
     "output_type": "execute_result"
    }
   ],
   "source": [
    "data"
   ]
  },
  {
   "cell_type": "code",
   "execution_count": null,
   "metadata": {},
   "outputs": [],
   "source": []
  },
  {
   "cell_type": "code",
   "execution_count": null,
   "metadata": {},
   "outputs": [],
   "source": []
  },
  {
   "cell_type": "markdown",
   "metadata": {},
   "source": [
    "### Train Our Markov Chain"
   ]
  },
  {
   "cell_type": "code",
   "execution_count": 13,
   "metadata": {},
   "outputs": [],
   "source": [
    "def trainmarkovChain(text,k=4):\n",
    "    T=generateTable(text,k)\n",
    "    T=convertFrequencyIntoProb(T)\n",
    "    return T"
   ]
  },
  {
   "cell_type": "code",
   "execution_count": 14,
   "metadata": {},
   "outputs": [],
   "source": [
    "def sample_text(ctx,T,k):\n",
    "    ctx=ctx[-k:]\n",
    "    \n",
    "    if T.get(ctx) is None:\n",
    "        return \" \"\n",
    "    possible_chars=list(T[ctx].keys())\n",
    "    possible_values=list(T[ctx].values())\n",
    "    \n",
    "    return np.random.choice(possible_chars,p=possible_values)"
   ]
  },
  {
   "cell_type": "code",
   "execution_count": 15,
   "metadata": {},
   "outputs": [],
   "source": [
    "Trained=trainmarkovChain(data)"
   ]
  },
  {
   "cell_type": "code",
   "execution_count": 16,
   "metadata": {},
   "outputs": [],
   "source": [
    "def generateText(starting,T,k,maxlen=2000):\n",
    "    np.random.seed(11)\n",
    "    sent=starting\n",
    "    ctx=starting[-k:]\n",
    "    \n",
    "    for ix in range(maxlen):\n",
    "        next_pred=sample_text(ctx,T,k)\n",
    "        sent += next_pred\n",
    "        ctx=sent[-k:]\n",
    "    return sent"
   ]
  },
  {
   "cell_type": "code",
   "execution_count": 17,
   "metadata": {},
   "outputs": [],
   "source": [
    "predictions=generateText(\"apna\",Trained,4)"
   ]
  },
  {
   "cell_type": "code",
   "execution_count": 21,
   "metadata": {},
   "outputs": [
    {
     "name": "stdout",
     "output_type": "stream",
     "text": [
      "apna Time Aayega\n",
      "Jitna time aayega\n",
      "Jitni taakat ki\n",
      "Jeetne ki\n",
      "Mohobbat ki\n",
      "Jeetne ki\n",
      "Mohobbat ki\n",
      "Mohobbat ki, ibaadat ki\n",
      "Mohobbat ki harkat di harkat nahi tha sar uthayega x (2)\n",
      " \n",
      "Taakat di hai, aafat ki ab aadat ki apni rehmat mein\n",
      " \n",
      "Kyon\n",
      "Kyon?\n",
      " \n",
      "Tu nanga hi to aaya hath nahi hairat ki, ibaadat ki ab talaash mein\n",
      " \n",
      "Kyon?\n",
      " \n",
      "Tu nanga hi to aaya khwaab\n",
      "Ab khaayega\n",
      "Apna time aayega\n",
      "Apna time aayega apna time aaya khud ki ab talaash mein nahi hai\n",
      " \n",
      "Iss hardâ€™ch nai hai\n",
      " \n",
      "Iss harkat ki\n",
      "Mohobbat ki\n",
      "Mohobbat ki\n",
      "Jeetne ki\n",
      "Aur jurrat ki, amaana lala\n",
      "Tujhe na mil payega\n",
      "Jitni raaste ko bhi ladka sehmat mein nahin hai\n",
      "Kyon?\n",
      " \n",
      "Taakat ki\n",
      "Aasman bhi ladka sehmat mein nahi\n",
      "Utna hi to khaayega\n",
      " \n",
      "Yeh shabdon ka hai\n",
      "Zaroorat ki\n",
      "Himaakat di hairat ki, ibaadat ki hai\n",
      "Kya ghanta lekar jaayega\n",
      "Apna time aayega\n",
      " \n",
      "Tu nanga hi barkat ki\n",
      "Adalat yahaan par\n",
      "Yahaan marzi ki\n",
      "Jeetne ki\n",
      "Jeetne ki mehnat se main\n",
      "Jitna hi to aayega\n",
      " \n",
      "Ab hai\n",
      "Kya tu dafnayega\n",
      "Mere jaisa mera khud ki hai\n",
      "Kya ghanta lekar jaayega\n",
      "Kya tu ghanta lekar..\n",
      " \n",
      "Kissi ka hai\n",
      "Kya ghanta lekar..\n",
      " \n",
      "Kissi ka jwala\n",
      "Meri bediyan parwaaz dekh par aaya hai\n",
      "Kya ghanta lekar jaayega\n",
      "Aayega\n",
      "Apna time aayega\n",
      "Aayega\n",
      "Apna time aaya hath nai hai\n",
      "Zaroorat ki\n",
      "Mohobbat ki, aafat ki hai jaisa shaanat ki\n",
      "Aur jurrat yahaan marzi ki\n",
      "Adalat yeh hai, aafat ki\n",
      "Himaakat ki hai tu\n",
      "Utni raakh se\n",
      "Tu udd ja apna time aayega apna time aayega\n",
      "Apna time aaya hai jaisa shaan marzi ki\n",
      "Aur jurrat ki, ibaadat ki mehnat kismat mein hai chheene de\n",
      "Ab kaise tu ghanta lekar jaayega\n",
      "Apna time aaya hai\n",
      " \n",
      "Tu nanga hi to aayega\n",
      "Kya ghanta lekar..\n",
      " \n",
      "Kissi ka hai, aafat ki mehnat ki\n",
      "Jeetne ki hai\n",
      "Kya ghanta lekar jaayega\n",
      " \n",
      "Yeh shaan marzi ki\n",
      "Himaakat ki ab laalach nai hai, aafat ki\n",
      "Aasman bhi satayega\n",
      "Zinda mera khwaab hai\n",
      "Zaroorat ne hi to aayega\n",
      "Apna Time Aayega\n",
      "Mere bhai tu\n",
      "Utni taakat nahin hai\n",
      "Kya ghanta lekar jaayega\n",
      "Apna time aayega\n",
      "Apna time aayega\n",
      " \n",
      "Yeh shaan marzi ki\n",
      "Aur jurrat ki\n",
      "Adalat yeh hai\n",
      "Kya ghanta lekar..\n",
      " \n",
      "Kyon?\n",
      " \n",
      "Tu nanga hi to aayega\n",
      " \n",
      "Yeh shabdon ki hai\n",
      "Ter\n"
     ]
    }
   ],
   "source": [
    "print(predictions)"
   ]
  },
  {
   "cell_type": "code",
   "execution_count": 20,
   "metadata": {},
   "outputs": [],
   "source": [
    "with open(\"predictions.txt\",mode='w',newline='\\n') as f:\n",
    "    f.write(predictions)"
   ]
  },
  {
   "cell_type": "code",
   "execution_count": null,
   "metadata": {},
   "outputs": [],
   "source": []
  },
  {
   "cell_type": "code",
   "execution_count": null,
   "metadata": {},
   "outputs": [],
   "source": []
  }
 ],
 "metadata": {
  "kernelspec": {
   "display_name": "Python 3",
   "language": "python",
   "name": "python3"
  },
  "language_info": {
   "codemirror_mode": {
    "name": "ipython",
    "version": 3
   },
   "file_extension": ".py",
   "mimetype": "text/x-python",
   "name": "python",
   "nbconvert_exporter": "python",
   "pygments_lexer": "ipython3",
   "version": "3.7.6"
  }
 },
 "nbformat": 4,
 "nbformat_minor": 4
}
